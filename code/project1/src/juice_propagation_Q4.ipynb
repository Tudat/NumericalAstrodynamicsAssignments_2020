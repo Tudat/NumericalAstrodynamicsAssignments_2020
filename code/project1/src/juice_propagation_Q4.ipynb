{
 "cells": [
  {
   "cell_type": "markdown",
   "metadata": {
    "deletable": false,
    "editable": false
   },
   "source": [
    "# Assignment 1 - Propagation Settings"
   ]
  },
  {
   "cell_type": "code",
   "execution_count": null,
   "metadata": {
    "deletable": false
   },
   "outputs": [],
   "source": [
    "''' \n",
    "Copyright (c) 2010-2020, Delft University of Technology\n",
    "All rigths reserved\n",
    "\n",
    "This file is part of the Tudat. Redistribution and use in source and \n",
    "binary forms, with or without modification, are permitted exclusively\n",
    "under the terms of the Modified BSD license. You should have received\n",
    "a copy of the license with this file. If not, please or visit:\n",
    "http://tudat.tudelft.nl/LICENSE.\n",
    "'''\n",
    "\n",
    "import numpy as np\n",
    "from tudatpy import elements\n",
    "from tudatpy.io import save2txt\n",
    "from tudatpy.kernel import constants\n",
    "from tudatpy.kernel.interface import spice_interface\n",
    "from tudatpy.kernel.simulation import environment_setup\n",
    "from tudatpy.kernel.simulation import propagation_setup\n",
    "from matplotlib import pyplot as plt"
   ]
  },
  {
   "cell_type": "code",
   "execution_count": null,
   "metadata": {
    "deletable": false
   },
   "outputs": [],
   "source": [
    "# student number: 1244779 --> 1244ABC\n",
    "A = XXXX\n",
    "B = XXXX\n",
    "C = XXXX\n",
    "\n",
    "simulation_start_epoch = 33.15 * constants.JULIAN_YEAR + A * 7.0 * constants.JULIAN_DAY + \\\n",
    "                            B * constants.JULIAN_DAY + C * constants.JULIAN_DAY / 24.0\n",
    "simulation_end_epoch = simulation_start_epoch + 344.0 * constants.JULIAN_DAY / 24.0"
   ]
  },
  {
   "cell_type": "markdown",
   "metadata": {
    "deletable": false,
    "editable": false
   },
   "source": [
    "## Create Environment and Vehicle"
   ]
  },
  {
   "cell_type": "code",
   "execution_count": null,
   "metadata": {
    "deletable": false
   },
   "outputs": [],
   "source": [
    "###########################################################################\n",
    "# CREATE ENVIRONMENT ######################################################\n",
    "###########################################################################\n",
    "\n",
    "# Load spice kernels.\n",
    "spice_interface.load_standard_kernels()\n",
    "\n",
    "# Create body objects.\n",
    "bodies_to_create = [\"Ganymede\", \"Jupiter\"]\n",
    "global_frame_origin = \"SSB\"\n",
    "global_frame_orientation = \"ECLIPJ2000\"\n",
    "body_settings = environment_setup.get_default_body_settings(\n",
    "    bodies_to_create, global_frame_origin, global_frame_orientation)    \n",
    "\n",
    "# Add Ganymede exponential atmosphere \n",
    "density_scale_height = 40.0E3\n",
    "density_at_zero_altitude = 2.0E-9\n",
    "body_settings.get( \"Ganymede\" ).atmosphere_settings = environment_setup.atmosphere.exponential( \n",
    "        density_scale_height, density_at_zero_altitude)\n",
    "\n",
    "bodies = environment_setup.create_system_of_bodies(body_settings)\n",
    "\n",
    "###########################################################################\n",
    "# CREATE VEHICLE ##########################################################\n",
    "###########################################################################\n",
    "\n",
    "# Create vehicle object\n",
    "bodies.create_empty_body( \"JUICE\" )\n",
    "\n",
    "# Set mass of vehicle\n",
    "bodies.get_body( \"JUICE\" ).set_constant_mass(2000.0)\n",
    "\n",
    "# Create aerodynamic coefficients interface\n",
    "reference_area = 100.0\n",
    "drag_coefficient = 1.2\n",
    "aero_coefficient_settings = environment_setup.aerodynamic_coefficients.constant(\n",
    "        reference_area,[drag_coefficient,0,0] )\n",
    "environment_setup.add_aerodynamic_coefficient_interface(\n",
    "        bodies, \"JUICE\", aero_coefficient_settings );"
   ]
  },
  {
   "cell_type": "markdown",
   "metadata": {
    "deletable": false,
    "editable": false
   },
   "source": [
    "## Propagate Dynamics for various cases"
   ]
  },
  {
   "cell_type": "code",
   "execution_count": null,
   "metadata": {
    "deletable": false
   },
   "outputs": [],
   "source": [
    "cases = ['unperturbed', 'case_i', 'case_ii']\n",
    "\n",
    "\"\"\"\n",
    "unperturbed: Ganymede PM\n",
    "\n",
    "case_i: Ganymede PM, Jupiter SH D/O 4/0\n",
    "\n",
    "case_ii: Ganymede PM, Ganymede aerodynamic\n",
    "\"\"\"\n",
    "\n",
    "simulation_results_dict = dict()\n",
    "dependent_variables_dict = dict()\n",
    "for case in cases:    \n",
    "    ###########################################################################\n",
    "    # CREATE ACCELERATIONS ####################################################\n",
    "    ###########################################################################\n",
    "\n",
    "    # Define bodies that are propagated.\n",
    "    bodies_to_propagate = [\"JUICE\"]\n",
    "\n",
    "    # Define central bodies.\n",
    "    central_bodies = [\"Ganymede\"]\n",
    "\n",
    "    # Define accelerations acting on vehicle.\n",
    "    if case == 'unperturbed':\n",
    "        acceleration_settings_on_vehicle = dict(\n",
    "            Ganymede = XXXX\n",
    "        )\n",
    "    if case == 'case_i':\n",
    "        acceleration_settings_on_vehicle = dict(\n",
    "            Ganymede = XXXX,\n",
    "            Jupiter = XXXX\n",
    "        )\n",
    "    if case == 'case_ii':\n",
    "        acceleration_settings_on_vehicle = dict(\n",
    "            Ganymede = XXXX\n",
    "        )\n",
    "\n",
    "    # Create global accelerations dictionary.\n",
    "    acceleration_settings = {\"JUICE\": acceleration_settings_on_vehicle}\n",
    "\n",
    "    # Create acceleration models.\n",
    "    acceleration_models = propagation_setup.create_acceleration_models(\n",
    "            bodies, acceleration_settings, bodies_to_propagate, central_bodies)\n",
    "\n",
    "\n",
    "    ###########################################################################\n",
    "    # CREATE PROPAGATION SETTINGS #############################################\n",
    "    ###########################################################################\n",
    "\n",
    "    # Define initial state.\n",
    "    system_initial_state = spice_interface.get_body_cartesian_state_at_epoch(\n",
    "       target_body_name=\"JUICE\",\n",
    "       observer_body_name=\"Ganymede\",\n",
    "       reference_frame_name=\"ECLIPJ2000\",\n",
    "       aberration_corrections=\"NONE\",\n",
    "       ephemeris_time= simulation_start_epoch )\n",
    "\n",
    "    # Save magnitude of perturbations for both cases\n",
    "    if case == 'unperturbed':\n",
    "        dependent_variables_to_save = [ ]\n",
    "    if case == 'case_i':\n",
    "        dependent_variables_to_save = [ \n",
    "            propagation_setup.dependent_variable.XXXX\n",
    "        ]\n",
    "    if case == 'case_ii':\n",
    "        dependent_variables_to_save = [ \n",
    "            propagation_setup.dependent_variable.XXXX\n",
    "        ]\n",
    "\n",
    "    # Create propagation settings.\n",
    "    propagator_settings = propagation_setup.propagator.translational(\n",
    "        central_bodies,\n",
    "        acceleration_models,\n",
    "        bodies_to_propagate,\n",
    "        system_initial_state,\n",
    "        simulation_end_epoch,\n",
    "        output_variables = dependent_variables_to_save\n",
    "    )\n",
    "\n",
    "    # Create numerical integrator settings.\n",
    "    fixed_step_size = 10.0\n",
    "    integrator_settings = propagation_setup.integrator.runge_kutta_4(\n",
    "        simulation_start_epoch,\n",
    "        fixed_step_size\n",
    "    )\n",
    "\n",
    "    ###########################################################################\n",
    "    # PROPAGATE ORBIT #########################################################\n",
    "    ###########################################################################\n",
    "\n",
    "    # Create simulation object and propagate dynamics.\n",
    "    dynamics_simulator = propagation_setup.SingleArcDynamicsSimulator(\n",
    "        bodies, integrator_settings, propagator_settings)\n",
    "    \n",
    "    simulation_results_dict[case] = dynamics_simulator.state_history\n",
    "    dependent_variables_dict[case] = dynamics_simulator.dependent_variable_history\n",
    "\n",
    "    ###########################################################################\n",
    "    # PRINT FINAL PROPAGATION TIME AND STATE ##################################\n",
    "    ###########################################################################\n",
    "\n",
    "    final_time_step=list(simulation_results_dict[case].keys())[-1]\n",
    "    first_time_step=list(simulation_results_dict[case].keys())[0]\n",
    "\n",
    "    print(\n",
    "        f\"\"\"\n",
    "    JUICE Propagation Results of {case}.\n",
    "\n",
    "    Final propagation time of JUICE [s]: {simulation_end_epoch}\n",
    "    Final Cartesian state of JUICE is [m]: \\n{\n",
    "        simulation_results_dict[case][final_time_step][:]}\n",
    "\n",
    "        \"\"\"\n",
    "    )\n",
    "\n",
    "    ###########################################################################\n",
    "    # SAVE RESULTS ############################################################\n",
    "    ###########################################################################\n",
    "    \n",
    "#     save2txt(solution=simulation_result,\n",
    "#              filename=\"JUICEPropagationHistory_Q4_\" + case + \".dat\",\n",
    "#              directory=\"./\",  # default = \"./\" \n",
    "#              column_names=None,  # default = None \n",
    "#              )\n",
    "    \n",
    "    "
   ]
  },
  {
   "cell_type": "markdown",
   "metadata": {
    "deletable": false,
    "editable": false
   },
   "source": [
    "## Pre-process Results"
   ]
  },
  {
   "cell_type": "code",
   "execution_count": null,
   "metadata": {
    "deletable": false
   },
   "outputs": [],
   "source": [
    "simulation_result_unperturbed = simulation_results_dict[ 'unperturbed']\n",
    "simulation_result_i = simulation_results_dict[ 'case_i' ]\n",
    "simulation_result_ii = simulation_results_dict[ 'case_ii' ]\n",
    "\n",
    "dependent_variables_unperturbed = dependent_variables_dict[ 'unperturbed' ]\n",
    "dependent_variables_i = dependent_variables_dict[ 'case_i' ]\n",
    "dependent_variables_ii = dependent_variables_dict[ 'case_ii' ]\n",
    "\n",
    "difference_in_cartesian_position = XXXX"
   ]
  },
  {
   "cell_type": "markdown",
   "metadata": {
    "deletable": false,
    "editable": false
   },
   "source": [
    "## Plot Results"
   ]
  },
  {
   "cell_type": "code",
   "execution_count": null,
   "metadata": {},
   "outputs": [],
   "source": []
  }
 ],
 "metadata": {
  "celltoolbar": "Edit Metadata",
  "kernelspec": {
   "display_name": "Python 3",
   "language": "python",
   "name": "python3"
  },
  "language_info": {
   "codemirror_mode": {
    "name": "ipython",
    "version": 3
   },
   "file_extension": ".py",
   "mimetype": "text/x-python",
   "name": "python",
   "nbconvert_exporter": "python",
   "pygments_lexer": "ipython3",
   "version": "3.8.5"
  }
 },
 "nbformat": 4,
 "nbformat_minor": 4
}
